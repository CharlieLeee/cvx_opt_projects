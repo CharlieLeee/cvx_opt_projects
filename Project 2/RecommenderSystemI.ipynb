{
 "cells": [
  {
   "cell_type": "code",
   "execution_count": 1,
   "id": "fe08f639",
   "metadata": {},
   "outputs": [],
   "source": [
    "import numpy as np\n",
    "import cvxpy as cp\n",
    "import matplotlib.pyplot as plt\n",
    "import scipy.io as sio\n",
    "# you can use pip to install/update missing packages. "
   ]
  },
  {
   "cell_type": "code",
   "execution_count": 2,
   "id": "151f15bd",
   "metadata": {},
   "outputs": [],
   "source": [
    "## Load the data \n",
    "\n",
    "# Load the partially observed (Rpartial) rating matrices (xxuyyi means #xx users #yy items)\n",
    "data = sio.loadmat('100u20ipartial.mat')\n",
    "Rpartial = data['Rpartial']\n",
    "\n",
    "# The data corresponds to user ratings songs from the Rolling Stone top 20.\n",
    "# 1\t\tBob Dylan - Like a Rolling Stone\n",
    "# 2\t\tThe Rolling Stones - Satisfaction\n",
    "# 3\t\tJohn Lennon - Imagine\n",
    "# 4\t\tMarvin Gaye - What's Going On\n",
    "# 5\t\tAretha Franklin - Respect\n",
    "# 6\t\tThe Beach Boys - Good Vibrations\n",
    "# 7\t\tChuck Berry - Johnny B. Goode\n",
    "# 8\t\tThe Beatles - Hey Jude\n",
    "# 9\t\tNirvana - Smells Like Teen Spirit\n",
    "# 10\tRay Charles - What'd I Say (Parts 1 And 2)\n",
    "# 11\tThe Who - My Generation\n",
    "# 12\tSam Cooke - A Change Is Gonna Come\n",
    "# 13\tThe Beatles - Yesterday\n",
    "# 14\tBob Dylan - Blowin' in the Wind\n",
    "# 15\tThe Clash - London Calling\n",
    "# 16\tThe Beatles - I Want to Hold Your Hand\n",
    "# 17\tJimi Hendrix - Purple Haze\n",
    "# 18\tChuck Berry - Maybellene\n",
    "# 19\tElvis Presley - Hound Dog\n",
    "# 20\tThe Beatles - Let It Be\n",
    "\n",
    "# The rating is on a scale from 1 (very bad) to 5 (very good). A 0 means\n",
    "# the entry is missing.\n",
    "\n",
    "# infer the size of the matrix (m x n)\n",
    "[m,n] = np.shape(Rpartial)\n",
    "\n",
    "# Eric likes Jimi Hendrix (song 17), what do you suggest for Eric? \n",
    "# Start by adding the user data of Eric to Rpartial\n",
    "R_Eric = np.array([0, 0, 0, 0, 0, 0, 0, 0, 0, 0, 0, 0, 0, 0, 0, 0, 5, 0, 0, 0,])\n",
    "# Redefine Rpartial (and its dimension)\n",
    "Rpartial = np.vstack((Rpartial,R_Eric))\n",
    "m += 1"
   ]
  },
  {
   "cell_type": "code",
   "execution_count": 6,
   "id": "99a98aa6",
   "metadata": {},
   "outputs": [],
   "source": [
    "## Question 5 (use cvxpy, make sure to use cp. and avoid np.)\n",
    "\n",
    "# Define the decision variables: \n",
    "# Note! X is not symmetric. \n",
    "# Without the 'full' constraint: wrong. \n",
    "        \n",
    "X = cp.Variable((m, n))\n",
    "Lambda11 = cp.Variable((n, n), symmetric=True)\n",
    "Lambda22 = cp.Variable((m, m), symmetric=True)\n",
    "\n",
    "# Define the objective function:\n",
    "# Note! You cannot always group the Lambda matrices (dimension might differ).\n",
    "obj = 0.5 * (cp.trace(Lambda11) + cp.trace(Lambda22))\n",
    "\n",
    "# Define the constraints:\n",
    "# Constraints enforcing observed ratings (use Rpartial) \n",
    "# that is, if Rij==0, the value is \"not observed\". \n",
    "observed = Rpartial != 0\n",
    "constr = []\n",
    "constr.append(X[observed] == Rpartial[observed])\n",
    "\n",
    "# Define the constraints enforcing the range beween 1 and 5\n",
    "constr.append(X >= 1)\n",
    "constr.append(X <= 5)\n",
    "# Define the semidefinite constraint \n",
    "bmat = cp.bmat([[Lambda11, -X.T], [-X, Lambda22]])\n",
    "constr.append(bmat >> 0)"
   ]
  },
  {
   "cell_type": "code",
   "execution_count": 8,
   "id": "85642773",
   "metadata": {},
   "outputs": [
    {
     "name": "stdout",
     "output_type": "stream",
     "text": [
      "===============================================================================\n",
      "                                     CVXPY                                     \n",
      "                                     v1.2.1                                    \n",
      "===============================================================================\n",
      "(CVXPY) Dec 08 01:38:41 AM: Your problem has 12621 variables, 4 constraints, and 0 parameters.\n",
      "(CVXPY) Dec 08 01:38:41 AM: It is compliant with the following grammars: DCP, DQCP\n",
      "(CVXPY) Dec 08 01:38:41 AM: (If you need to solve this problem multiple times, but with different data, consider using parameters.)\n",
      "(CVXPY) Dec 08 01:38:41 AM: CVXPY will first compile your problem; then, it will invoke a numerical solver to obtain a solution.\n",
      "-------------------------------------------------------------------------------\n",
      "                                  Compilation                                  \n",
      "-------------------------------------------------------------------------------\n",
      "(CVXPY) Dec 08 01:38:41 AM: Compiling problem (target solver=MOSEK).\n",
      "(CVXPY) Dec 08 01:38:41 AM: Reduction chain: Dcp2Cone -> CvxAttr2Constr -> ConeMatrixStuffing -> MOSEK\n",
      "(CVXPY) Dec 08 01:38:41 AM: Applying reduction Dcp2Cone\n",
      "(CVXPY) Dec 08 01:38:41 AM: Applying reduction CvxAttr2Constr\n",
      "(CVXPY) Dec 08 01:38:41 AM: Applying reduction ConeMatrixStuffing\n",
      "(CVXPY) Dec 08 01:38:41 AM: Applying reduction MOSEK\n",
      "(CVXPY) Dec 08 01:38:46 AM: Finished problem compilation (took 5.133e+00 seconds).\n",
      "-------------------------------------------------------------------------------\n",
      "                                Numerical solver                               \n",
      "-------------------------------------------------------------------------------\n",
      "(CVXPY) Dec 08 01:38:46 AM: Invoking solver MOSEK  to obtain a solution.\n",
      "\n",
      "\n",
      "(CVXPY) Dec 08 01:38:49 AM: Problem\n",
      "(CVXPY) Dec 08 01:38:49 AM:   Name                   :                 \n",
      "(CVXPY) Dec 08 01:38:49 AM:   Objective sense        : maximize        \n",
      "(CVXPY) Dec 08 01:38:49 AM:   Type                   : CONIC (conic optimization problem)\n",
      "(CVXPY) Dec 08 01:38:49 AM:   Constraints            : 7381            \n",
      "(CVXPY) Dec 08 01:38:49 AM:   Affine conic cons.     : 0               \n",
      "(CVXPY) Dec 08 01:38:49 AM:   Disjunctive cons.      : 0               \n",
      "(CVXPY) Dec 08 01:38:49 AM:   Cones                  : 0               \n",
      "(CVXPY) Dec 08 01:38:49 AM:   Scalar variables       : 4790            \n",
      "(CVXPY) Dec 08 01:38:49 AM:   Matrix variables       : 1               \n",
      "(CVXPY) Dec 08 01:38:49 AM:   Integer variables      : 0               \n",
      "(CVXPY) Dec 08 01:38:49 AM: \n",
      "(CVXPY) Dec 08 01:38:49 AM: Optimizer started.\n",
      "(CVXPY) Dec 08 01:38:49 AM: Presolve started.\n",
      "(CVXPY) Dec 08 01:38:49 AM: Linear dependency checker started.\n",
      "(CVXPY) Dec 08 01:38:49 AM: Linear dependency checker terminated.\n",
      "(CVXPY) Dec 08 01:38:49 AM: Eliminator started.\n",
      "(CVXPY) Dec 08 01:38:49 AM: Freed constraints in eliminator : 0\n",
      "(CVXPY) Dec 08 01:38:49 AM: Eliminator terminated.\n",
      "(CVXPY) Dec 08 01:38:49 AM: Eliminator - tries                  : 1                 time                   : 0.00            \n",
      "(CVXPY) Dec 08 01:38:49 AM: Lin. dep.  - tries                  : 1                 time                   : 0.00            \n",
      "(CVXPY) Dec 08 01:38:49 AM: Lin. dep.  - number                 : 0               \n",
      "(CVXPY) Dec 08 01:38:49 AM: Presolve terminated. Time: 0.01    \n",
      "(CVXPY) Dec 08 01:38:50 AM: GP based matrix reordering started.\n",
      "(CVXPY) Dec 08 01:38:50 AM: GP based matrix reordering terminated.\n",
      "(CVXPY) Dec 08 01:38:51 AM: Problem\n",
      "(CVXPY) Dec 08 01:38:51 AM:   Name                   :                 \n",
      "(CVXPY) Dec 08 01:38:51 AM:   Objective sense        : maximize        \n",
      "(CVXPY) Dec 08 01:38:51 AM:   Type                   : CONIC (conic optimization problem)\n",
      "(CVXPY) Dec 08 01:38:51 AM:   Constraints            : 7381            \n",
      "(CVXPY) Dec 08 01:38:51 AM:   Affine conic cons.     : 0               \n",
      "(CVXPY) Dec 08 01:38:51 AM:   Disjunctive cons.      : 0               \n",
      "(CVXPY) Dec 08 01:38:51 AM:   Cones                  : 0               \n",
      "(CVXPY) Dec 08 01:38:51 AM:   Scalar variables       : 4790            \n",
      "(CVXPY) Dec 08 01:38:51 AM:   Matrix variables       : 1               \n",
      "(CVXPY) Dec 08 01:38:51 AM:   Integer variables      : 0               \n",
      "(CVXPY) Dec 08 01:38:51 AM: \n",
      "(CVXPY) Dec 08 01:38:51 AM: Optimizer  - threads                : 10              \n",
      "(CVXPY) Dec 08 01:38:51 AM: Optimizer  - solved problem         : the primal      \n",
      "(CVXPY) Dec 08 01:38:51 AM: Optimizer  - Constraints            : 7381\n",
      "(CVXPY) Dec 08 01:38:51 AM: Optimizer  - Cones                  : 1\n",
      "(CVXPY) Dec 08 01:38:51 AM: Optimizer  - Scalar variables       : 4041              conic                  : 751             \n",
      "(CVXPY) Dec 08 01:38:51 AM: Optimizer  - Semi-definite variables: 1                 scalarized             : 7381            \n",
      "(CVXPY) Dec 08 01:38:51 AM: Factor     - setup time             : 1.48              dense det. time        : 0.85            \n",
      "(CVXPY) Dec 08 01:38:51 AM: Factor     - ML order time          : 0.00              GP order time          : 0.00            \n",
      "(CVXPY) Dec 08 01:38:51 AM: Factor     - nonzeros before factor : 2.72e+07          after factor           : 2.72e+07        \n",
      "(CVXPY) Dec 08 01:38:51 AM: Factor     - dense dim.             : 0                 flops                  : 1.34e+11        \n",
      "(CVXPY) Dec 08 01:38:51 AM: ITE PFEAS    DFEAS    GFEAS    PRSTATUS   POBJ              DOBJ              MU       TIME  \n",
      "(CVXPY) Dec 08 01:38:51 AM: 0   1.0e+00  5.0e+00  1.0e+00  0.00e+00   0.000000000e+00   0.000000000e+00   1.0e+00  1.50  \n",
      "(CVXPY) Dec 08 01:38:51 AM: 1   9.0e-01  4.5e+00  9.2e-01  -6.08e-01  2.379475295e+01   2.372940744e+01   9.0e-01  2.09  \n",
      "(CVXPY) Dec 08 01:38:52 AM: 2   8.5e-01  4.2e+00  8.5e-01  -1.48e-01  4.170082961e+01   4.163242085e+01   8.5e-01  2.60  \n",
      "(CVXPY) Dec 08 01:38:52 AM: 3   5.0e-01  2.5e+00  4.6e-01  -6.58e-02  1.302774607e+02   1.301146766e+02   5.0e-01  3.14  \n",
      "(CVXPY) Dec 08 01:38:53 AM: 4   9.7e-02  4.8e-01  5.6e-02  2.53e-01   2.389906641e+02   2.388406666e+02   9.7e-02  3.68  \n",
      "(CVXPY) Dec 08 01:38:53 AM: 5   8.8e-03  4.4e-02  1.5e-03  8.18e-01   2.234320356e+02   2.234207485e+02   8.8e-03  4.32  \n",
      "(CVXPY) Dec 08 01:38:54 AM: 6   7.9e-04  3.9e-03  4.4e-05  9.85e-01   2.185366338e+02   2.185352060e+02   7.9e-04  4.95  \n",
      "(CVXPY) Dec 08 01:38:55 AM: 7   6.5e-04  3.3e-03  3.3e-05  1.00e+00   2.182244970e+02   2.182232895e+02   6.5e-04  5.47  \n",
      "(CVXPY) Dec 08 01:38:55 AM: 8   5.9e-04  3.0e-03  2.9e-05  1.00e+00   2.180799210e+02   2.180788174e+02   5.9e-04  6.00  \n",
      "(CVXPY) Dec 08 01:38:56 AM: 9   3.0e-04  1.5e-03  1.1e-05  1.00e+00   2.176883444e+02   2.176877460e+02   3.0e-04  6.54  \n",
      "(CVXPY) Dec 08 01:38:56 AM: 10  2.0e-04  1.0e-03  5.8e-06  1.00e+00   2.175547276e+02   2.175543208e+02   2.0e-04  7.09  \n",
      "(CVXPY) Dec 08 01:38:57 AM: 11  3.3e-05  1.7e-04  3.9e-07  1.00e+00   2.173905183e+02   2.173904510e+02   3.3e-05  7.75  \n",
      "(CVXPY) Dec 08 01:38:58 AM: 12  4.4e-06  2.2e-05  1.9e-08  1.00e+00   2.173709140e+02   2.173709045e+02   4.4e-06  8.41  \n",
      "(CVXPY) Dec 08 01:38:58 AM: 13  2.2e-06  1.1e-05  6.6e-09  1.00e+00   2.173699162e+02   2.173699115e+02   2.2e-06  8.96  \n",
      "(CVXPY) Dec 08 01:38:59 AM: 14  3.3e-07  1.7e-06  4.1e-10  1.00e+00   2.173691807e+02   2.173691799e+02   3.3e-07  9.57  \n",
      "(CVXPY) Dec 08 01:38:59 AM: 15  5.2e-08  2.6e-07  2.5e-11  1.00e+00   2.173691566e+02   2.173691564e+02   5.2e-08  10.19 \n",
      "(CVXPY) Dec 08 01:39:00 AM: 16  7.3e-09  3.7e-08  1.3e-12  1.00e+00   2.173691537e+02   2.173691537e+02   7.3e-09  10.87 \n",
      "(CVXPY) Dec 08 01:39:01 AM: 17  3.3e-09  1.5e-07  4.1e-13  1.00e+00   2.173691535e+02   2.173691535e+02   3.3e-09  11.50 \n",
      "(CVXPY) Dec 08 01:39:01 AM: 18  4.7e-10  3.0e-07  2.2e-14  1.00e+00   2.173691532e+02   2.173691532e+02   4.7e-10  12.12 \n",
      "(CVXPY) Dec 08 01:39:01 AM: Optimizer terminated. Time: 12.13   \n",
      "(CVXPY) Dec 08 01:39:01 AM: \n",
      "(CVXPY) Dec 08 01:39:01 AM: \n",
      "(CVXPY) Dec 08 01:39:01 AM: Interior-point solution summary\n",
      "(CVXPY) Dec 08 01:39:01 AM:   Problem status  : PRIMAL_AND_DUAL_FEASIBLE\n",
      "(CVXPY) Dec 08 01:39:01 AM:   Solution status : OPTIMAL\n",
      "(CVXPY) Dec 08 01:39:01 AM:   Primal.  obj: 2.1736915325e+02    nrm: 3e+00    Viol.  con: 5e-10    var: 5e-10    barvar: 0e+00  \n",
      "(CVXPY) Dec 08 01:39:01 AM:   Dual.    obj: 2.1736915325e+02    nrm: 2e+01    Viol.  con: 0e+00    var: 5e-09    barvar: 7e-11  \n",
      "-------------------------------------------------------------------------------\n",
      "                                    Summary                                    \n",
      "-------------------------------------------------------------------------------\n",
      "(CVXPY) Dec 08 01:39:01 AM: Problem status: optimal\n",
      "(CVXPY) Dec 08 01:39:01 AM: Optimal value: 2.174e+02\n",
      "(CVXPY) Dec 08 01:39:01 AM: Compilation took 5.133e+00 seconds\n",
      "(CVXPY) Dec 08 01:39:01 AM: Solver (including time spent in interface) took 1.524e+01 seconds\n"
     ]
    },
    {
     "data": {
      "text/plain": [
       "217.3691532457823"
      ]
     },
     "execution_count": 8,
     "metadata": {},
     "output_type": "execute_result"
    }
   ],
   "source": [
    "## Solve the SDP\n",
    "\n",
    "# Make sure you have a SDP solver   \n",
    "# 100u20i can take a few minutes (tic-toc measures the time) \n",
    "# Set 'verbose' to 1 if you want to see the progress\n",
    "prob = cp.Problem(cp.Minimize(obj), constr)\n",
    "prob.solve(solver=cp.MOSEK, verbose=True)\n"
   ]
  },
  {
   "cell_type": "code",
   "execution_count": 13,
   "id": "255bc148",
   "metadata": {},
   "outputs": [
    {
     "data": {
      "text/plain": [
       "1.0"
      ]
     },
     "execution_count": 13,
     "metadata": {},
     "output_type": "execute_result"
    }
   ],
   "source": [
    "a = 0.45\n",
    "np.ceil(a)"
   ]
  },
  {
   "cell_type": "code",
   "execution_count": 14,
   "id": "fe89c65a",
   "metadata": {},
   "outputs": [
    {
     "name": "stdout",
     "output_type": "stream",
     "text": [
      "[4. 4. 2. 3. 2. 2. 3. 2. 4. 3. 4. 3. 2. 4. 4. 3. 5. 2. 2. 3.]\n"
     ]
    }
   ],
   "source": [
    "# Retrieve and round the optimal solution\n",
    "# Convince yourself of the validity of the rounding. \n",
    "Xopt_real = X.value\n",
    "Xopt_int = np.ceil(Xopt_real)\n",
    "\n",
    "# print the recommendation to Eric\n",
    "X_Eric = Xopt_int[m-1,:]\n",
    "print(X_Eric)"
   ]
  }
 ],
 "metadata": {
  "kernelspec": {
   "display_name": "Python 3.9.13 ('conv')",
   "language": "python",
   "name": "python3"
  },
  "language_info": {
   "codemirror_mode": {
    "name": "ipython",
    "version": 3
   },
   "file_extension": ".py",
   "mimetype": "text/x-python",
   "name": "python",
   "nbconvert_exporter": "python",
   "pygments_lexer": "ipython3",
   "version": "3.9.13"
  },
  "vscode": {
   "interpreter": {
    "hash": "95ebdc93e02634a0ffacf65876a968184a7f335dd3e79640cc14e25fddd3ef88"
   }
  }
 },
 "nbformat": 4,
 "nbformat_minor": 5
}
